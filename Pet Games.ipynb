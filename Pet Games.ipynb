{
 "cells": [
  {
   "cell_type": "markdown",
   "id": "56cff7b2",
   "metadata": {},
   "source": [
    "## OpenCat: RoboPet Adventures"
   ]
  },
  {
   "cell_type": "markdown",
   "id": "552093d6",
   "metadata": {},
   "source": [
    "In this game, you have two robotic pets: RoboDog and RoboCat. You can feed them, play with them, and check their status. Each pet has hunger and happiness levels, which are randomized at the start. Feeding the pets reduces their hunger, and playing with them increases their happiness. You can choose which pet to interact with and perform actions accordingly. The game continues until you choose to quit."
   ]
  },
  {
   "cell_type": "code",
   "execution_count": 1,
   "id": "c7a82ded",
   "metadata": {},
   "outputs": [
    {
     "name": "stdout",
     "output_type": "stream",
     "text": [
      "\n",
      "Robotic Pet Game\n",
      "1. Feed a pet\n",
      "2. Play with a pet\n",
      "3. Check pet status\n",
      "4. Quit\n",
      "Enter your choice (1-4): 3\n",
      "Which pet's status would you like to check? (1 - RoboDog, 2 - RoboCat): 1\n",
      "RoboDog's hunger level: 5\n",
      "RoboDog's happiness level: 5\n",
      "\n",
      "Robotic Pet Game\n",
      "1. Feed a pet\n",
      "2. Play with a pet\n",
      "3. Check pet status\n",
      "4. Quit\n",
      "Enter your choice (1-4): 4\n",
      "Thanks for playing!\n"
     ]
    }
   ],
   "source": [
    "import random\n",
    "\n",
    "class RoboticPet:\n",
    "    def __init__(self, name):\n",
    "        self.name = name\n",
    "        self.hunger = random.randint(0, 10)\n",
    "        self.happiness = random.randint(0, 10)\n",
    "\n",
    "    def feed(self):\n",
    "        self.hunger -= random.randint(1, 3)\n",
    "        if self.hunger < 0:\n",
    "            self.hunger = 0\n",
    "        print(f\"{self.name} has been fed.\")\n",
    "\n",
    "    def play(self):\n",
    "        self.happiness += random.randint(1, 3)\n",
    "        if self.happiness > 10:\n",
    "            self.happiness = 10\n",
    "        print(f\"{self.name} is happy.\")\n",
    "\n",
    "    def check_status(self):\n",
    "        print(f\"{self.name}'s hunger level: {self.hunger}\")\n",
    "        print(f\"{self.name}'s happiness level: {self.happiness}\")\n",
    "\n",
    "# Creating robotic pets\n",
    "pet1 = RoboticPet(\"RoboDog\")\n",
    "pet2 = RoboticPet(\"RoboCat\")\n",
    "\n",
    "# Game loop\n",
    "while True:\n",
    "    print(\"\\nRobotic Pet Game\")\n",
    "    print(\"1. Feed a pet\")\n",
    "    print(\"2. Play with a pet\")\n",
    "    print(\"3. Check pet status\")\n",
    "    print(\"4. Quit\")\n",
    "\n",
    "    choice = input(\"Enter your choice (1-4): \")\n",
    "\n",
    "    if choice == '1':\n",
    "        pet_choice = input(\"Which pet would you like to feed? (1 - RoboDog, 2 - RoboCat): \")\n",
    "        if pet_choice == '1':\n",
    "            pet1.feed()\n",
    "        elif pet_choice == '2':\n",
    "            pet2.feed()\n",
    "        else:\n",
    "            print(\"Invalid choice!\")\n",
    "\n",
    "    elif choice == '2':\n",
    "        pet_choice = input(\"Which pet would you like to play with? (1 - RoboDog, 2 - RoboCat): \")\n",
    "        if pet_choice == '1':\n",
    "            pet1.play()\n",
    "        elif pet_choice == '2':\n",
    "            pet2.play()\n",
    "        else:\n",
    "            print(\"Invalid choice!\")\n",
    "\n",
    "    elif choice == '3':\n",
    "        pet_choice = input(\"Which pet's status would you like to check? (1 - RoboDog, 2 - RoboCat): \")\n",
    "        if pet_choice == '1':\n",
    "            pet1.check_status()\n",
    "        elif pet_choice == '2':\n",
    "            pet2.check_status()\n",
    "        else:\n",
    "            print(\"Invalid choice!\")\n",
    "\n",
    "    elif choice == '4':\n",
    "        print(\"Thanks for playing!\")\n",
    "        break\n",
    "\n",
    "    else:\n",
    "        print(\"Invalid choice!\")\n"
   ]
  }
 ],
 "metadata": {
  "kernelspec": {
   "display_name": "Python 3 (ipykernel)",
   "language": "python",
   "name": "python3"
  },
  "language_info": {
   "codemirror_mode": {
    "name": "ipython",
    "version": 3
   },
   "file_extension": ".py",
   "mimetype": "text/x-python",
   "name": "python",
   "nbconvert_exporter": "python",
   "pygments_lexer": "ipython3",
   "version": "3.11.1"
  }
 },
 "nbformat": 4,
 "nbformat_minor": 5
}
